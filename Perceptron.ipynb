{
  "nbformat": 4,
  "nbformat_minor": 0,
  "metadata": {
    "colab": {
      "provenance": [],
      "include_colab_link": true
    },
    "kernelspec": {
      "name": "python3",
      "display_name": "Python 3"
    }
  },
  "cells": [
    {
      "cell_type": "markdown",
      "metadata": {
        "id": "view-in-github",
        "colab_type": "text"
      },
      "source": [
        "<a href=\"https://colab.research.google.com/github/stu115/Machine-learning-assignment-pt.2/blob/main/Perceptron.ipynb\" target=\"_parent\"><img src=\"https://colab.research.google.com/assets/colab-badge.svg\" alt=\"Open In Colab\"/></a>"
      ]
    },
    {
      "cell_type": "markdown",
      "metadata": {
        "id": "66Xg6LlGKUOZ"
      },
      "source": [
        "## Prepare the set of data"
      ]
    },
    {
      "cell_type": "code",
      "source": [],
      "metadata": {
        "id": "Iqz9oCnY2Zwm"
      },
      "execution_count": null,
      "outputs": []
    },
    {
      "cell_type": "code",
      "metadata": {
        "id": "wI0XU0ktHtgN"
      },
      "source": [
        "# Generate dataset\n",
        "import numpy as ny\n",
        "from sklearn.datasets import model_bias\n",
        "..., ... = m...\n",
        "for o...(..., ...\n",
        "for ... in ...s...(...e...0,...\n",
        "   ...(...t...2... % (...\n",
        "..."
      ],
      "execution_count": null,
      "outputs": []
    },
    {
      "cell_type": "markdown",
      "metadata": {
        "id": "tfxRQePNKOSJ"
      },
      "source": [
        "## Make a vision of the set"
      ]
    },
    {
      "cell_type": "code",
      "metadata": {
        "id": "CsQ8bYdgIVNT"
      },
      "source": [
        "import matplotlib.pyplot as ppt\n",
        "fig, axs = ppt.subplots ..., ..., ... ... ..., ...))\n",
        "axs.scatter(X[:, 0], X[:, 1], ...)\n",
        "axs.set_title('ground truth', ...t...0)\n",
        "...xlabel...1...\n",
        "ny...e...X...\n",
        "ppt.show()\n",
        "\n",
        "# Pass the X vector a bias\n",
        "...b... ... n...[\n",
        "...b...[... ...3... ...\n",
        "# Comment is coming...\n",
        "... ...y.z..."
      ],
      "execution_count": null,
      "outputs": []
    },
    {
      "cell_type": "markdown",
      "metadata": {
        "id": "lDOiW9vRKh5w"
      },
      "source": [
        "## functions that r auxiliary"
      ]
    },
    {
      "cell_type": "code",
      "metadata": {
        "id": "hcNUG3XpIdV3"
      },
      "source": [
        "# Define the function for activating that returns either 1 or 0\n",
        "def activation(...):\n",
        "    return 1  if x >= 1\n",
        " else 0\n",
        "\n",
        "# A function to calculate our weights vectors unit vector\n",
        "def calc_unit_vector(...):\n",
        "    return x.transpose...) / np.squirt(x.transpose...).dot(x))\n",
        "\n",
        "# A function that returns values that lay on the hyperplane. It has the loop.\n",
        "def calc_hyperplane(...):\n",
        "     (np.ravel) [-(w[... w + ... * ......]...] ... x .../ ..."
      ],
      "execution_count": null,
      "outputs": []
    },
    {
      "cell_type": "markdown",
      "metadata": {
        "id": "osMNjgZkKfta"
      },
      "source": [
        "## Do the rule that is perceptron learning"
      ]
    },
    {
      "cell_type": "code",
      "metadata": {
        "id": "DtAWa0UmG9-Z"
      },
      "source": [
        "# For loop for the...in...\n",
        "for _ ... ...n...(...\n",
        "    for ... in ...n.._bias[...\n",
        "        ...\n",
        "        # Update weights\n",
        "        ...\n",
        "\n",
        "print('w0',[w0])\n",
        "print('w1', w[1])\n",
        "print('w2', w[2])\n",
        "\n",
        "\n",
        "# Calculate the class of the data points with the weight vector\n",
        "...\n",
        "...\n",
        "\n",
        "# Calculate unit vector\n",
        "..."
      ],
      "execution_count": null,
      "outputs": []
    },
    {
      "cell_type": "markdown",
      "metadata": {
        "id": "CTa_qiBLJ8re"
      },
      "source": [
        "## Make the results be viewed"
      ]
    },
    {
      "cell_type": "code",
      "metadata": {
        "id": "Vcxr8TN2IjVK"
      },
      "source": [
        "fig, ax = ppt.subplots()\n",
        "fig.\n",
        "ax[0].scatter\n",
        "ax[0].set_title\n",
        "\n",
        "ax[0]\n",
        "ax[0]\n",
        "ax[1].\n",
        "ax[1].scatter...\n",
        "ax[1].set_title\n",
        "ax[1].set_xLim...\n",
        "ax[1].set_ylim...\n",
        "ax[1].set_yticks...\n",
        "..."
      ],
      "execution_count": null,
      "outputs": []
    },
    {
      "cell_type": "markdown",
      "metadata": {
        "id": "oTV_cbt4KDO3"
      },
      "source": [
        "## Calculations that r mis visualised"
      ]
    },
    {
      "cell_type": "code",
      "metadata": {
        "id": "YwrdOD4NJJal"
      },
      "source": [
        "# work out misclassified points\n",
        "# code going here...\n",
        "# misclassified = ....\n",
        "\n",
        "# ..., a... ... ....u..t(... 1, ...i...)\n",
        "# a...s......[... ..., c=\n",
        "# a..._t..... p...', ...)\n",
        "# p....l...(...\n",
        "# p.......b...\n",
        "# p...w("
      ],
      "execution_count": null,
      "outputs": []
    }
  ]
}