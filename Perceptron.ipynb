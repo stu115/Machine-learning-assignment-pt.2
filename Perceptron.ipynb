{
  "nbformat": 4,
  "nbformat_minor": 0,
  "metadata": {
    "colab": {
      "provenance": [],
      "authorship_tag": "ABX9TyNcfAZFUWI80z/kU4fPyuvO",
      "include_colab_link": true
    },
    "kernelspec": {
      "name": "python3",
      "display_name": "Python 3"
    },
    "language_info": {
      "name": "python"
    }
  },
  "cells": [
    {
      "cell_type": "markdown",
      "metadata": {
        "id": "view-in-github",
        "colab_type": "text"
      },
      "source": [
        "<a href=\"https://colab.research.google.com/github/stu115/Machine-learning-assignment-pt.2/blob/main/Perceptron.ipynb\" target=\"_parent\"><img src=\"https://colab.research.google.com/assets/colab-badge.svg\" alt=\"Open In Colab\"/></a>"
      ]
    },
    {
      "cell_type": "code",
      "execution_count": null,
      "metadata": {
        "id": "k7sjp9u_kDc6"
      },
      "outputs": [],
      "source": [
        "# Generate dataset\n",
        "import numpy as ny\n",
        "from sklearn.datasets import model_bias\n",
        "..., ... = m...\n",
        "for o...(..., ...\n",
        "for ... in ...s...(...e...0,...\n",
        "   ...(...t...2... % (...\n",
        "..."
      ]
    },
    {
      "cell_type": "code",
      "source": [
        "import matplotlib.pyplot as ppt\n",
        "fig, axs = ppt.subplots(1, 1, figsize = 5, 5))\n",
        "axs.scatter(X[:, 0], X[:, 1], c=Y)\n",
        "axs.set_title('ground truth', fontsize= 20)\n",
        "ppt.xlabel('X1)\n",
        "ppt.ylabel('X2)\n",
        "ppt.show()\n",
        "\n",
        "# Pass the X vector a bias\n",
        "X_bias = ny.ones([X.shape[0],3])\n",
        "X_bias [:, 1:3] = X\n",
        "# Comment is coming...\n",
        "w = ny.zeros([3,1])"
      ],
      "metadata": {
        "id": "T8tppocnkHBc"
      },
      "execution_count": null,
      "outputs": []
    },
    {
      "cell_type": "code",
      "source": [
        "# Define the function for activating that returns either 1 or 0\n",
        "def activation(x):\n",
        "    return 1  if x >= 1\n",
        " else 0\n",
        "\n",
        "# A function to calculate our weights vectors unit vector\n",
        "def calc_unit_vector(x):\n",
        "    return x.transpose() / np.squirt(x.transpose().dot(x))\n",
        "\n",
        "# A function that returns values that lay on the hyperplane. It has the loop.\n",
        "def calc_hyperplane(X,w):\n",
        "     (np.ravel) [-(w[0] w + x * w]1] / w[2] for x in X])"
      ],
      "metadata": {
        "id": "QtFs8Xuvydt5"
      },
      "execution_count": null,
      "outputs": []
    },
    {
      "cell_type": "code",
      "source": [
        "# For loop for the...in...\n",
        "for _ I in range(10)\n",
        "    for i in range (x_bias.shape[0]):\n",
        "        y = activation(w.transpose().dot(x_...[i, :]))\n",
        "        # Update weights\n",
        "        w = w + ((Y[i] - y)* x_bias[i...:]).reshape(...shape[0],1)\n",
        "\n",
        "print('w0:',[w0])\n",
        "print('w1:', w[1])\n",
        "print('w2:', w[2])\n",
        "\n",
        "\n",
        "# Calculate the class of the data points with the weight vector\n",
        "result = [w.transpose().dot(X) for x in X_bias]\n",
        "result_class = [activation(w.transpose().dot(X) for x in X_bias)]\n",
        "\n",
        "# Calculate unit vector\n",
        "w  = cal.unit_vector(w).transpose()"
      ],
      "metadata": {
        "id": "tQUjmG3u1IES"
      },
      "execution_count": null,
      "outputs": []
    },
    {
      "cell_type": "code",
      "source": [
        "fig, ax = ppt.subplots(1,2, figsize=(15,5))\n",
        "fig.\n",
        "ax[0].scatter(X[:0],[:1],c=Y...)\n",
        "ax[0].set_title('ground truth', fontsizwe=20)\n",
        "\n",
        "ax[1].plot\n",
        "ax[1].scatter(X[:0],X[:1]], c=result_class)\n",
        "ax[1].set_xLim...\n",
        "ax[1].set_ylim...\n",
        "ax[1].set_yticks...\n",
        "ax[1].set_title..."
      ],
      "metadata": {
        "id": "_wsaIDERNOe5"
      },
      "execution_count": null,
      "outputs": []
    }
  ]
}