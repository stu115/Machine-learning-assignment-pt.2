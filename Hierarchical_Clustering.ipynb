{
  "cells": [
    {
      "cell_type": "markdown",
      "metadata": {
        "id": "view-in-github",
        "colab_type": "text"
      },
      "source": [
        "<a href=\"https://colab.research.google.com/github/stu115/Machine-learning-assignment-pt.2/blob/main/Hierarchical_Clustering.ipynb\" target=\"_parent\"><img src=\"https://colab.research.google.com/assets/colab-badge.svg\" alt=\"Open In Colab\"/></a>"
      ]
    },
    {
      "cell_type": "markdown",
      "metadata": {
        "id": "tiZLslQUOEaY"
      },
      "source": []
    },
    {
      "cell_type": "markdown",
      "metadata": {
        "id": "ELHBAr9HJVQY"
      },
      "source": [
        "# Hierarchical Clustering: Agglomerative"
      ]
    },
    {
      "cell_type": "code",
      "execution_count": null,
      "metadata": {
        "id": "6vVqWPPDgtE9"
      },
      "outputs": [],
      "source": [
        "import numpy as ny\n",
        "import matplotlib.pyplot as pt\n",
        "from sklearn.cluster import AgglomerativeClustering\n",
        "from scipy.cluster.hierarchy import dendrogram, linkage"
      ]
    },
    {
      "cell_type": "code",
      "execution_count": null,
      "metadata": {
        "colab": {
          "background_save": true
        },
        "id": "YvCCdqNzgy9k",
        "collapsed": true
      },
      "outputs": [],
      "source": [
        "#Start the array\n",
        "X = ny.array(,[[],[],[],\n",
        "            [],[],[],\n",
        "              [],[],[]],)"
      ]
    },
    {
      "cell_type": "code",
      "execution_count": null,
      "metadata": {
        "id": "GfXvKOy0g0gb"
      },
      "outputs": [],
      "source": [
        "labels = range(1,11)\n",
        "pt.figure(figsize=(1...\n",
        "pt.subplots_adjust(bottom=0.1)\n",
        "pt.scatter(X[:,0],X[:,1], label='True Position')\n",
        "#The loop for plotting the points o f data to the graph\n",
        "  for   label x,y in zip(labels... x[:, 0], ...[:, 1]):\n",
        "  pt.annotate(\n",
        "        label,\n",
        "        xy=(x, y), xytext=(-3, 3),\n",
        "        textcoords='offset points'⁹, ha='right', va='bottom')\n",
        "pt.show()"
      ]
    },
    {
      "cell_type": "code",
      "execution_count": null,
      "metadata": {
        "colab": {
          "base_uri": "https://localhost:8080/",
          "height": 431
        },
        "id": "HrxZBnZ7g4yp",
        "outputId": "3422cb1d-4cf7-475c-88c1-421d88bb58d3"
      },
      "outputs": [
        {
          "data": {
            "image/png": "[encoded data removed]",
            "text/plain": [
              "<Figure size 720x504 with 1 Axes>"
            ]
          },
          "metadata": {},
          "output_type": "display_data"
        }
      ],
      "source": [
        "linked = linkage(X, 'single')\n",
        "\n",
        "labelList = range(1,11)\n",
        "\n",
        ".figure(figsize=(10, 7))\n",
        "dendogram  (linked,\n",
        "            orientation='',\n",
        "            labels=lbelList,\n",
        "            distance_sort='',\n",
        "            show_leaf_counts=True)\n",
        "pt.show()"
      ]
    },
    {
      "cell_type": "code",
      "execution_count": null,
      "metadata": {
        "colab": {
          "base_uri": "https://localhost:8080/",
          "height": 445
        },
        "id": "5XJhKIOpJJkv",
        "outputId": "92672e32-3dac-4423-b5ff-b0cb5962e3d4"
      },
      "outputs": [
        {
          "name": "stdout",
          "output_type": "stream",
          "text": [
            "[1 1 1 1 1 0 0 0 0 0]\n"
          ]
        },
        {
          "data": {
            "image/png": "[encoded data removed]",
            "text/plain": [
              "<Figure size 720x504 with 1 Axes>"
            ]
          },
          "metadata": {},
          "output_type": "display_data"
        }
      ],
      "source": [
        "clstrs = AgglomerativeClustering(n_clusters=2, affinity='', linkage='')\n",
        "clstrs.fit_predict(X)\n",
        "\n",
        "print(clstrs.labels_)\n",
        "\n",
        "pt.figure(figsize=(10, 7))\n",
        "pt.scatter(X[:,0],X[:,1], c=c...t...e...s..., cmap='')\n",
        "pt.show()"
      ]
    }
  ],
  "metadata": {
    "accelerator": "GPU",
    "colab": {
      "provenance": [],
      "include_colab_link": true
    },
    "kernelspec": {
      "display_name": "Python 3",
      "name": "python3"
    }
  },
  "nbformat": 4,
  "nbformat_minor": 0
}